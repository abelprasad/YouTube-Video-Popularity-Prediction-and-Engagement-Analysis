{
 "cells": [
  {
   "cell_type": "markdown",
   "metadata": {},
   "source": [
    "# 02 - YouTube API Data Collection\n",
    "\n",
    "This notebook demonstrates collecting YouTube video data using the official YouTube Data API v3.\n",
    "\n",
    "**Required:** YouTube API Key (set in .env file)"
   ]
  },
  {
   "cell_type": "code",
   "execution_count": null,
   "metadata": {},
   "outputs": [],
   "source": [
    "import sys\n",
    "sys.path.append('../src')\n",
    "\n",
    "from api_collector import YouTubeAPICollector\n",
    "import pandas as pd\n",
    "import matplotlib.pyplot as plt\n",
    "import os"
   ]
  },
  {
   "cell_type": "code",
   "execution_count": null,
   "metadata": {},
   "outputs": [],
   "source": [
    "# Initialize API collector\n",
    "# Make sure you have YOUTUBE_API_KEY in your .env file\n",
    "collector = YouTubeAPICollector()"
   ]
  },
  {
   "cell_type": "code",
   "execution_count": null,
   "metadata": {},
   "outputs": [],
   "source": [
    "# Define search queries (same as scraper for fair comparison)\n",
    "search_queries = [\n",
    "    'python tutorial', 'machine learning', 'cooking recipes',\n",
    "    'travel vlog', 'music video', 'gaming',\n",
    "    'movie trailers', 'sports highlights', 'tech reviews',\n",
    "    'comedy sketches', 'news today', 'fitness workout'\n",
    "]\n",
    "\n",
    "print(f\"Will collect from {len(search_queries)} queries\")"
   ]
  },
  {
   "cell_type": "code",
   "execution_count": null,
   "metadata": {},
   "outputs": [],
   "source": [
    "# Collect data\n",
    "df = collector.collect_from_queries(search_queries, videos_per_query=50)\n",
    "print(f\"\\nCollected {len(df)} videos\")\n",
    "print(f\"API quota used: {collector.quota_used} units\")"
   ]
  },
  {
   "cell_type": "code",
   "execution_count": null,
   "metadata": {},
   "outputs": [],
   "source": [
    "# Explore data\n",
    "print(f\"Columns: {list(df.columns)}\")\n",
    "df.head()"
   ]
  },
  {
   "cell_type": "code",
   "execution_count": null,
   "metadata": {},
   "outputs": [],
   "source": [
    "# Statistics\n",
    "df.describe()"
   ]
  },
  {
   "cell_type": "code",
   "execution_count": null,
   "metadata": {},
   "outputs": [],
   "source": [
    "# Category distribution\n",
    "if 'category_name' in df.columns:\n",
    "    print(\"\\nVideos by Category:\")\n",
    "    print(df['category_name'].value_counts())"
   ]
  },
  {
   "cell_type": "code",
   "execution_count": null,
   "metadata": {},
   "outputs": [],
   "source": [
    "# Quick visualizations\n",
    "fig, axes = plt.subplots(2, 2, figsize=(14, 10))\n",
    "\n",
    "# Views distribution\n",
    "axes[0, 0].hist(df['view_count'], bins=50, edgecolor='black')\n",
    "axes[0, 0].set_xlabel('Views')\n",
    "axes[0, 0].set_title('Views Distribution')\n",
    "axes[0, 0].set_yscale('log')\n",
    "\n",
    "# Likes distribution\n",
    "axes[0, 1].hist(df['like_count'], bins=50, edgecolor='black', color='coral')\n",
    "axes[0, 1].set_xlabel('Likes')\n",
    "axes[0, 1].set_title('Likes Distribution')\n",
    "axes[0, 1].set_yscale('log')\n",
    "\n",
    "# Duration distribution\n",
    "axes[1, 0].hist(df['duration_seconds']/60, bins=50, edgecolor='black', color='green')\n",
    "axes[1, 0].set_xlabel('Duration (minutes)')\n",
    "axes[1, 0].set_title('Duration Distribution')\n",
    "\n",
    "# Category distribution\n",
    "if 'category_name' in df.columns:\n",
    "    df['category_name'].value_counts().head(10).plot(kind='barh', ax=axes[1, 1])\n",
    "    axes[1, 1].set_xlabel('Count')\n",
    "    axes[1, 1].set_title('Top 10 Categories')\n",
    "\n",
    "plt.tight_layout()\n",
    "plt.show()"
   ]
  },
  {
   "cell_type": "code",
   "execution_count": null,
   "metadata": {},
   "outputs": [],
   "source": [
    "# Save data\n",
    "output_path = '../data/raw/api_data.csv'\n",
    "collector.save_data(df, output_path)\n",
    "print(f\"Data saved to {output_path}\")"
   ]
  },
  {
   "cell_type": "code",
   "execution_count": null,
   "metadata": {},
   "outputs": [],
   "source": [
    "# Summary\n",
    "print(f\"\\nAPI Data Collection Summary:\")\n",
    "print(f\"- Total videos: {len(df)}\")\n",
    "print(f\"- Unique channels: {df['channel_id'].nunique()}\")\n",
    "print(f\"- Categories: {df['category_name'].nunique() if 'category_name' in df.columns else 'N/A'}\")\n",
    "print(f\"- Average views: {df['view_count'].mean():,.0f}\")\n",
    "print(f\"- Average likes: {df['like_count'].mean():,.0f}\")\n",
    "print(f\"- Average comments: {df['comment_count'].mean():,.0f}\")"
   ]
  }
 ],
 "metadata": {
  "kernelspec": {
   "display_name": "Python 3",
   "language": "python",
   "name": "python3"
  },
  "language_info": {
   "name": "python",
   "version": "3.8.0"
  }
 },
 "nbformat": 4,
 "nbformat_minor": 4
}
