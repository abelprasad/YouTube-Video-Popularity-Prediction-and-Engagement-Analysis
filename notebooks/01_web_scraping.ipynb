{
 "cells": [
  {
   "cell_type": "markdown",
   "metadata": {},
   "source": [
    "# 01 - Web Scraping YouTube Videos\n",
    "\n",
    "This notebook demonstrates how to scrape YouTube video data using Selenium and BeautifulSoup.\n",
    "\n",
    "**Data collected:**\n",
    "- Video ID\n",
    "- Title\n",
    "- Channel name\n",
    "- View count\n",
    "- Upload date\n",
    "- Duration\n",
    "- Video URL"
   ]
  },
  {
   "cell_type": "code",
   "execution_count": null,
   "metadata": {},
   "outputs": [],
   "source": [
    "# Import required libraries\n",
    "import sys\n",
    "sys.path.append('../src')\n",
    "\n",
    "from scraper import YouTubeScraper\n",
    "import pandas as pd\n",
    "import matplotlib.pyplot as plt\n",
    "import seaborn as sns"
   ]
  },
  {
   "cell_type": "markdown",
   "metadata": {},
   "source": [
    "## Initialize the Scraper"
   ]
  },
  {
   "cell_type": "code",
   "execution_count": null,
   "metadata": {},
   "outputs": [],
   "source": [
    "# Initialize scraper (set headless=True to run without browser window)\n",
    "scraper = YouTubeScraper(headless=False)"
   ]
  },
  {
   "cell_type": "markdown",
   "metadata": {},
   "source": [
    "## Define Search Queries\n",
    "\n",
    "We use diverse queries to collect videos from different categories"
   ]
  },
  {
   "cell_type": "code",
   "execution_count": null,
   "metadata": {},
   "outputs": [],
   "source": [
    "search_queries = [\n",
    "    'python tutorial',\n",
    "    'machine learning',\n",
    "    'cooking recipes',\n",
    "    'travel vlog',\n",
    "    'music video',\n",
    "    'gaming',\n",
    "    'movie trailers',\n",
    "    'sports highlights',\n",
    "    'tech reviews',\n",
    "    'comedy sketches'\n",
    "]\n",
    "\n",
    "print(f\"Will scrape {len(search_queries)} queries\")\n",
    "print(f\"Target: {len(search_queries) * 100} videos\")"
   ]
  },
  {
   "cell_type": "markdown",
   "metadata": {},
   "source": [
    "## Scrape Data"
   ]
  },
  {
   "cell_type": "code",
   "execution_count": null,
   "metadata": {},
   "outputs": [],
   "source": [
    "# Scrape videos from all queries\n",
    "df = scraper.scrape_multiple_queries(search_queries, videos_per_query=100)"
   ]
  },
  {
   "cell_type": "markdown",
   "metadata": {},
   "source": [
    "## Explore Scraped Data"
   ]
  },
  {
   "cell_type": "code",
   "execution_count": null,
   "metadata": {},
   "outputs": [],
   "source": [
    "print(f\"Total videos collected: {len(df)}\")\n",
    "print(f\"Columns: {list(df.columns)}\")\n",
    "df.head()"
   ]
  },
  {
   "cell_type": "code",
   "execution_count": null,
   "metadata": {},
   "outputs": [],
   "source": [
    "# Basic statistics\n",
    "df.describe()"
   ]
  },
  {
   "cell_type": "code",
   "execution_count": null,
   "metadata": {},
   "outputs": [],
   "source": [
    "# Check for missing values\n",
    "df.isnull().sum()"
   ]
  },
  {
   "cell_type": "markdown",
   "metadata": {},
   "source": [
    "## Quick Visualizations"
   ]
  },
  {
   "cell_type": "code",
   "execution_count": null,
   "metadata": {},
   "outputs": [],
   "source": [
    "# View distribution\n",
    "plt.figure(figsize=(12, 5))\n",
    "plt.subplot(1, 2, 1)\n",
    "plt.hist(df['views'], bins=50, edgecolor='black')\n",
    "plt.xlabel('Views')\n",
    "plt.ylabel('Frequency')\n",
    "plt.title('Distribution of Views')\n",
    "plt.yscale('log')\n",
    "\n",
    "plt.subplot(1, 2, 2)\n",
    "plt.hist(df['duration_seconds']/60, bins=50, edgecolor='black')\n",
    "plt.xlabel('Duration (minutes)')\n",
    "plt.ylabel('Frequency')\n",
    "plt.title('Distribution of Video Duration')\n",
    "\n",
    "plt.tight_layout()\n",
    "plt.show()"
   ]
  },
  {
   "cell_type": "markdown",
   "metadata": {},
   "source": [
    "## Save Raw Data"
   ]
  },
  {
   "cell_type": "code",
   "execution_count": null,
   "metadata": {},
   "outputs": [],
   "source": [
    "# Save to CSV\n",
    "output_path = '../data/raw/scraped_data.csv'\n",
    "scraper.save_data(df, output_path)\n",
    "print(f\"Data saved to {output_path}\")"
   ]
  },
  {
   "cell_type": "markdown",
   "metadata": {},
   "source": [
    "## Summary\n",
    "\n",
    "- Total videos collected\n",
    "- Data quality check\n",
    "- Next steps: Data preprocessing"
   ]
  },
  {
   "cell_type": "code",
   "execution_count": null,
   "metadata": {},
   "outputs": [],
   "source": [
    "print(f\"\\nData Collection Summary:\")\n",
    "print(f\"- Total unique videos: {len(df)}\")\n",
    "print(f\"- Date range: {df['scraped_at'].min()} to {df['scraped_at'].max()}\")\n",
    "print(f\"- Average views: {df['views'].mean():,.0f}\")\n",
    "print(f\"- Median views: {df['views'].median():,.0f}\")\n",
    "print(f\"- Average duration: {df['duration_seconds'].mean()/60:.1f} minutes\")"
   ]
  }
 ],
 "metadata": {
  "kernelspec": {
   "display_name": "Python 3",
   "language": "python",
   "name": "python3"
  },
  "language_info": {
   "codemirror_mode": {
    "name": "ipython",
    "version": 3
   },
   "file_extension": ".py",
   "mimetype": "text/x-python",
   "name": "python",
   "nbconvert_exporter": "python",
   "pygments_lexer": "ipython3",
   "version": "3.8.0"
  }
 },
 "nbformat": 4,
 "nbformat_minor": 4
}
